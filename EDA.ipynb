{
 "cells": [
  {
   "attachments": {},
   "cell_type": "markdown",
   "metadata": {},
   "source": [
    "# EDA\n",
    "\n",
    "![](data:image/jpeg;base64,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)"
   ]
  },
  {
   "cell_type": "code",
   "execution_count": null,
   "metadata": {},
   "outputs": [],
   "source": [
    "import warnings\n",
    "\n",
    "warnings.filterwarnings(\"ignore\")\n",
    "\n",
    "import pandas as pd\n",
    "import numpy as np\n",
    "import matplotlib.pyplot as plt\n",
    "import seaborn as sns\n",
    "import plotly.express as px\n",
    "\n",
    "\n",
    "from matplotlib.ticker import PercentFormatter\n",
    "plt.rcParams.update({ \"figure.figsize\" : (8, 5),\"axes.facecolor\" : \"white\", \"axes.edgecolor\":  \"black\"})\n",
    "plt.rcParams[\"figure.facecolor\"]= \"w\"\n",
    "pd.plotting.register_matplotlib_converters()\n",
    "pd.set_option('display.float_format', lambda x: '%.3f' % x)"
   ]
  },
  {
   "attachments": {},
   "cell_type": "markdown",
   "metadata": {},
   "source": [
    "### Importing Data"
   ]
  },
  {
   "cell_type": "code",
   "execution_count": null,
   "metadata": {},
   "outputs": [],
   "source": [
    "\n",
    "# as column 'condition' is truncated in the display, disable column truncation\n",
    "pd.set_option('display.max_columns', None) \n",
    "pd.set_option('display.width', None) \n",
    "pd.set_option('display.max_colwidth', -1)"
   ]
  },
  {
   "attachments": {},
   "cell_type": "markdown",
   "metadata": {},
   "source": [
    "### Checking Data"
   ]
  },
  {
   "cell_type": "code",
   "execution_count": null,
   "metadata": {},
   "outputs": [],
   "source": [
    "# Create DataFrame \n",
    "df = pd.read_csv('./data/King_County_House_prices_dataset.csv')"
   ]
  },
  {
   "cell_type": "code",
   "execution_count": null,
   "metadata": {},
   "outputs": [],
   "source": [
    "df.describe()"
   ]
  },
  {
   "cell_type": "code",
   "execution_count": null,
   "metadata": {},
   "outputs": [],
   "source": [
    "df.head()"
   ]
  },
  {
   "cell_type": "code",
   "execution_count": null,
   "metadata": {},
   "outputs": [],
   "source": [
    "df.columns"
   ]
  },
  {
   "cell_type": "code",
   "execution_count": null,
   "metadata": {},
   "outputs": [],
   "source": [
    "df.info()"
   ]
  },
  {
   "cell_type": "code",
   "execution_count": null,
   "metadata": {},
   "outputs": [],
   "source": [
    "df.isnull()"
   ]
  },
  {
   "cell_type": "code",
   "execution_count": null,
   "metadata": {},
   "outputs": [],
   "source": [
    "# check how many duplicated rows exist in the data frame\n",
    "df.duplicated().value_counts()\n",
    "# no duplicates"
   ]
  },
  {
   "attachments": {},
   "cell_type": "markdown",
   "metadata": {},
   "source": [
    "To determine from which year/s the data is transform date:"
   ]
  },
  {
   "cell_type": "code",
   "execution_count": null,
   "metadata": {},
   "outputs": [],
   "source": [
    "#type(df['date'][0])\n",
    "\n",
    "df_year = df['date'].apply(lambda date: date.split('/')[-1])\n",
    "df_year.unique()"
   ]
  },
  {
   "attachments": {},
   "cell_type": "markdown",
   "metadata": {},
   "source": [
    "## My Hypothoses:\n",
    "\n",
    "\n",
    "* The more sqft_living a house has, the more expensive it is. (Check price and price per sqft.)\n",
    "    * The more rooms a house has, the more expensive it is.\n",
    "    * The more bathrooms a house has, the more expensive it is.\n",
    "\n",
    "<br>\n",
    "\n",
    "* The sale price increases with the proximity to the city center.\n",
    "    \n",
    "<br>\n",
    "\n",
    "* The better the condition of the house, the more expensive it is.\n",
    "\n",
    "<br>"
   ]
  },
  {
   "attachments": {},
   "cell_type": "markdown",
   "metadata": {},
   "source": [
    "### Cleaning Data\n",
    "\n",
    "Start dropping columns when correlation between column and price is weak or moderate. \n",
    "<br>"
   ]
  },
  {
   "attachments": {},
   "cell_type": "markdown",
   "metadata": {},
   "source": [
    "#### Correlation relationship definition:\n",
    "* Correlation coefficient of 1 -> Perfect relationship\n",
    "* Correlation coefficient between -0.7 and 1 or 0.7 and 1 -> Very strong relationship \n",
    "* Correlation coefficient between -0.5 and -0.7 or 0.5 and 0.7 -> Strong relationship\n",
    "* Correlation coefficient between -0.3 and -0.5 or 0.3 and 0.5 -> Moderate relationship\n",
    "* Correlation coefficient between 0 and -0.3 or 0 and 0.3 -> Weak relationship\n",
    "* Correlation coefficient of 0 -> No relationship\n",
    "\n",
    "<br>"
   ]
  },
  {
   "cell_type": "code",
   "execution_count": null,
   "metadata": {},
   "outputs": [],
   "source": [
    "# Drop the ID and date column: won't need it \n",
    "df = df.drop(['id', 'date'], axis=1)\n",
    "df.head()"
   ]
  },
  {
   "cell_type": "code",
   "execution_count": null,
   "metadata": {},
   "outputs": [],
   "source": [
    "# correlation between column waterfront and column price\n",
    "correlation = df['waterfront'].corr(df['price'])\n",
    "print(correlation.round(1))\n",
    "\n",
    "# correlation is weak/moderate -> drop column waterfront\n",
    "df = df.drop('waterfront', axis=1)\n",
    "df.head()"
   ]
  },
  {
   "cell_type": "code",
   "execution_count": null,
   "metadata": {},
   "outputs": [],
   "source": [
    "# correlation between column floors and column price\n",
    "correlation = df['floors'].corr(df['price'])\n",
    "print(correlation.round(1))\n",
    "\n",
    "# correlation is weak/moderate -> drop column floors\n",
    "df = df.drop('floors', axis=1)\n",
    "df.head()"
   ]
  },
  {
   "cell_type": "code",
   "execution_count": null,
   "metadata": {},
   "outputs": [],
   "source": [
    "# correlation between column view and column price\n",
    "correlation = df['view'].corr(df['price'])\n",
    "print(correlation.round(1))\n",
    "\n",
    "# correlation is moderate "
   ]
  },
  {
   "cell_type": "code",
   "execution_count": null,
   "metadata": {},
   "outputs": [],
   "source": [
    "# correlation between column condition and column price\n",
    "correlation = df['condition'].corr(df['price'])\n",
    "print(correlation.round(1))\n",
    "\n",
    "# correlation is 0 --> drop column condition\n",
    "df = df.drop('condition', axis=1)\n",
    "df.head()"
   ]
  },
  {
   "cell_type": "code",
   "execution_count": null,
   "metadata": {},
   "outputs": [],
   "source": [
    "# correlation between column grade and column price\n",
    "correlation = df['grade'].corr(df['price'])\n",
    "print(correlation.round(1))\n",
    "\n",
    "# correlation is (very)strong \n"
   ]
  },
  {
   "cell_type": "code",
   "execution_count": null,
   "metadata": {},
   "outputs": [],
   "source": [
    "# Focus on column sqft_living --> drop columns: sqft_basement and sqft_above\n",
    "df = df.drop(['sqft_basement', 'sqft_above'], axis=1)\n",
    "df.head()"
   ]
  },
  {
   "cell_type": "code",
   "execution_count": null,
   "metadata": {},
   "outputs": [],
   "source": [
    "# Drop columns sqft_lot and sqft_lot15, because renovations regarding annexes are not in the stakeholders interest.\n",
    "df = df.drop(['sqft_lot', 'sqft_lot15'], axis=1)\n",
    "df.head()"
   ]
  },
  {
   "cell_type": "code",
   "execution_count": null,
   "metadata": {},
   "outputs": [],
   "source": [
    "df.info()  # yr_renovated is missing values: 16.198 entries but only 13.337 entries in yr_renovated "
   ]
  },
  {
   "cell_type": "code",
   "execution_count": null,
   "metadata": {},
   "outputs": [],
   "source": [
    "# Make correlation matrix for columns yr_built, yr_renovated and price_per_sqft, because of missing values in yr_renovated.\n",
    "\n",
    "# make a variable to hold columns for correlation matrix:\n",
    "features = ['yr_built', 'yr_renovated', 'price']\n",
    "corr_matrix = df[features].corr()\n",
    "print(corr_matrix.round(1))\n",
    "\n",
    "# correlation is weak for yr_built and yr_renovated -> drop these columns\n",
    "df = df.drop(['yr_built', 'yr_renovated'], axis=1)\n",
    "df.head()"
   ]
  },
  {
   "cell_type": "code",
   "execution_count": null,
   "metadata": {},
   "outputs": [],
   "source": [
    "df.describe()"
   ]
  },
  {
   "attachments": {},
   "cell_type": "markdown",
   "metadata": {},
   "source": [
    "Correlation for zipcodes makes no sense, because zipcodes are arbitrary numbers. Don't drop zipcodes column. Will be useful for pinpointing most interesting regions to buy houses.\n",
    "\n",
    "Price per sqft is missing in dataset. Make new column: price_per_sqft.\n",
    "<br>"
   ]
  },
  {
   "cell_type": "code",
   "execution_count": null,
   "metadata": {},
   "outputs": [],
   "source": [
    "# Calculate price per sqft_living per house:\n",
    "price_per_sqft_series= df['price']/df['sqft_living']\n",
    "price_per_sqft_series.name = 'price_per_sqft'\n",
    "df = pd.concat([df, price_per_sqft_series], axis=1)\n",
    "df.head()"
   ]
  },
  {
   "cell_type": "code",
   "execution_count": null,
   "metadata": {},
   "outputs": [],
   "source": [
    "df['price_per_sqft'].describe()"
   ]
  },
  {
   "attachments": {},
   "cell_type": "markdown",
   "metadata": {},
   "source": [
    "Make a boxplot and histogram to show the distribution of price:"
   ]
  },
  {
   "cell_type": "code",
   "execution_count": null,
   "metadata": {},
   "outputs": [],
   "source": [
    "# Boxplot and Histogram for 'price' with mean, median, mode and percentile displayed:\n",
    "\n",
    "f, (ax_box, ax_hist) = plt.subplots(2, sharex=True, gridspec_kw= {\"height_ratios\": (0.2, 1)})\n",
    "mean=df['price'].mean()\n",
    "median=df['price'].median()\n",
    "mode=df['price'].mode().values[0]\n",
    "cutoff1=df['price'].quantile(0.25)\n",
    "cutoff2=df['price'].quantile(0.75)\n",
    "\n",
    "sns.boxplot(data=df, x=\"price\", ax=ax_box)\n",
    "ax_box.axvline(mean, color='r', linestyle='--')\n",
    "ax_box.axvline(median, color='g', linestyle='-')\n",
    "ax_box.axvline(mode, color='b', linestyle='-')\n",
    "ax_box.axvline(cutoff1, color='black', linestyle='-.')\n",
    "ax_box.axvline(cutoff2, color='black', linestyle='-.')\n",
    "\n",
    "sns.histplot(data=df, x=\"price\", ax=ax_hist, kde=True)\n",
    "ax_hist.axvline(mean, color='r', linestyle='--', label=\"Mean\")\n",
    "ax_hist.axvline(median, color='g', linestyle='-', label=\"Median\")\n",
    "ax_hist.axvline(mode, color='b', linestyle='-', label=\"Mode\")\n",
    "ax_hist.axvline(cutoff1, color='black', linestyle='-.', label=\"25 %\")\n",
    "ax_hist.axvline(cutoff2, color='black', linestyle='-.', label=\"75 %\")\n",
    "\n",
    "ax_hist.legend()\n",
    "\n",
    "ax_box.set(xlabel='')\n",
    "plt.show()"
   ]
  },
  {
   "attachments": {},
   "cell_type": "markdown",
   "metadata": {},
   "source": [
    "In this plot we see the distribution of price. The histogram is positively skewed. That means that the average is not the mean and we should use the median for further analysis. In addition we see in the boxplot that we have a few outliers in our dataset. Clean data and remove the outliers.\n",
    "\n",
    "<br>"
   ]
  },
  {
   "cell_type": "code",
   "execution_count": null,
   "metadata": {},
   "outputs": [],
   "source": [
    "df.describe()"
   ]
  },
  {
   "attachments": {},
   "cell_type": "markdown",
   "metadata": {},
   "source": [
    "Make a boxplot and histogram to show the distribution of price_per_sqft:"
   ]
  },
  {
   "cell_type": "code",
   "execution_count": null,
   "metadata": {},
   "outputs": [],
   "source": [
    "# Boxplot and Histogram for 'price_per_sqft' with mean, median, mode and percentile displayed:\n",
    "\n",
    "f, (ax_box, ax_hist) = plt.subplots(2, sharex=True, gridspec_kw= {\"height_ratios\": (0.2, 1)})\n",
    "mean=df['price_per_sqft'].mean()\n",
    "median=df['price_per_sqft'].median()\n",
    "mode=df['price_per_sqft'].mode().values[0]\n",
    "cutoff1=df['price_per_sqft'].quantile(0.25)\n",
    "cutoff2=df['price_per_sqft'].quantile(0.75)\n",
    "\n",
    "sns.boxplot(data=df, x=\"price_per_sqft\", ax=ax_box)\n",
    "ax_box.axvline(mean, color='r', linestyle='--')\n",
    "ax_box.axvline(median, color='g', linestyle='-')\n",
    "ax_box.axvline(mode, color='b', linestyle='-')\n",
    "ax_box.axvline(cutoff1, color='black', linestyle='-.')\n",
    "ax_box.axvline(cutoff2, color='black', linestyle='-.')\n",
    "\n",
    "sns.histplot(data=df, x=\"price_per_sqft\", ax=ax_hist, kde=True)\n",
    "ax_hist.axvline(mean, color='r', linestyle='--', label=\"Mean\")\n",
    "ax_hist.axvline(median, color='g', linestyle='-', label=\"Median\")\n",
    "ax_hist.axvline(mode, color='b', linestyle='-', label=\"Mode\")\n",
    "ax_hist.axvline(cutoff1, color='black', linestyle='-.', label=\"25 %\")\n",
    "ax_hist.axvline(cutoff2, color='black', linestyle='-.', label=\"75 %\")\n",
    "\n",
    "ax_hist.legend()\n",
    "\n",
    "ax_box.set(xlabel='')\n",
    "plt.show()"
   ]
  },
  {
   "attachments": {},
   "cell_type": "markdown",
   "metadata": {},
   "source": [
    "In this plot we see the distribution of price_per_sqft. This graph is also positively skewed. That means that the average is not the mean and we should use the median for further analysis. In addition to that we can see that we have a high probability of outliers in our dataset. But in comparison to the graph above the skewness to the right is not as pronounced.\n",
    "\n",
    "<br>"
   ]
  },
  {
   "attachments": {},
   "cell_type": "markdown",
   "metadata": {},
   "source": [
    "#### Time to get rid of the outliers:"
   ]
  },
  {
   "cell_type": "code",
   "execution_count": null,
   "metadata": {},
   "outputs": [],
   "source": [
    "# Calculate outliers: q3 + iqr*1.5\n",
    "q_25, q_75 = df['price'].quantile([0.25, 0.75])\n",
    "iqr = q_75 - q_25\n",
    "\n",
    "# Save outliers in variable:\n",
    "cutoff = q_75 + (iqr * 1.5)\n",
    "print(cutoff)"
   ]
  },
  {
   "cell_type": "code",
   "execution_count": null,
   "metadata": {},
   "outputs": [],
   "source": [
    "# Look up RangeIndex\n",
    "df.info()  # RangeIndex: 21597 entries, 0 to 21596"
   ]
  },
  {
   "cell_type": "code",
   "execution_count": null,
   "metadata": {},
   "outputs": [],
   "source": [
    "# save new dataframe without outliers:\n",
    "df = df[df['price'] < cutoff].reset_index(drop=True)\n",
    "df.head()"
   ]
  },
  {
   "cell_type": "code",
   "execution_count": null,
   "metadata": {},
   "outputs": [],
   "source": [
    "# check RangeIndex\n",
    "df.info()  # RangeIndex: 20439 entries, 0 to 20438"
   ]
  },
  {
   "cell_type": "code",
   "execution_count": null,
   "metadata": {},
   "outputs": [],
   "source": [
    "# Plot without outlieres in price:\n",
    "# Boxplot and Histogram for 'price' with mean, median, mode and percentile displayed:\n",
    "\n",
    "f, (ax_box, ax_hist) = plt.subplots(2, sharex=True, gridspec_kw= {\"height_ratios\": (0.2, 1)})\n",
    "mean=df['price'].mean()\n",
    "median=df['price'].median()\n",
    "mode=df['price'].mode().values[0]\n",
    "cutoff1=df['price'].quantile(0.25)\n",
    "cutoff2=df['price'].quantile(0.75)\n",
    "\n",
    "sns.boxplot(data=df, x=\"price\", ax=ax_box)\n",
    "ax_box.axvline(mean, color='r', linestyle='--')\n",
    "ax_box.axvline(median, color='g', linestyle='-')\n",
    "ax_box.axvline(mode, color='b', linestyle='-')\n",
    "ax_box.axvline(cutoff1, color='black', linestyle='-.')\n",
    "ax_box.axvline(cutoff2, color='black', linestyle='-.')\n",
    "\n",
    "sns.histplot(data=df, x=\"price\", ax=ax_hist, kde=True)\n",
    "ax_hist.axvline(mean, color='r', linestyle='--', label=\"Mean\")\n",
    "ax_hist.axvline(median, color='g', linestyle='-', label=\"Median\")\n",
    "ax_hist.axvline(mode, color='b', linestyle='-', label=\"Mode\")\n",
    "ax_hist.axvline(cutoff1, color='black', linestyle='-.', label=\"25 %\")\n",
    "ax_hist.axvline(cutoff2, color='black', linestyle='-.', label=\"75 %\")\n",
    "\n",
    "ax_hist.legend()\n",
    "\n",
    "ax_box.set(xlabel='')\n",
    "plt.show()"
   ]
  },
  {
   "attachments": {},
   "cell_type": "markdown",
   "metadata": {},
   "source": [
    "The distribution of price is still positively skewed.\n",
    "\n",
    "<br>"
   ]
  },
  {
   "attachments": {},
   "cell_type": "markdown",
   "metadata": {},
   "source": [
    "### Checking the first hypothesis: \n",
    "### The more sqft_living a house has, the more expensive it is.\n",
    "\n",
    "* What is the correlation between __price__ and __sqft_living__?             \n",
    "\n",
    "* What is the correlation between __price_per_sqft__ and __sqft_living__?   \n",
    "* What is the correlation between __price__ and __bedrooms__?              \n",
    "* What is the correlation between __price_per_sqft__ and __bedrooms__?       \n",
    "* What is the correlation between __price__ and __bathrooms__?              \n",
    "* What is the correlation between __price_per_sqft__ and __bathrooms__?     \n",
    "\n",
    "<br>"
   ]
  },
  {
   "attachments": {},
   "cell_type": "markdown",
   "metadata": {},
   "source": [
    "#### Correlations price or price_per_sqft, and sqft_living:"
   ]
  },
  {
   "cell_type": "code",
   "execution_count": null,
   "metadata": {},
   "outputs": [],
   "source": [
    "# correlation between price and sqft_living:\n",
    "correlation = df['price'].corr(df['sqft_living'])\n",
    "print(correlation.round(1))"
   ]
  },
  {
   "cell_type": "code",
   "execution_count": null,
   "metadata": {},
   "outputs": [],
   "source": [
    "fig = px.scatter(df, x='price', y='sqft_living', color='bedrooms', opacity= 0.5, title='Correlation between Price and sqft living in King County (Correlation: 0.6)')\n",
    "#fig.update_traces(marker=dict(color='#40BCD8'))\n",
    "fig.show()"
   ]
  },
  {
   "attachments": {},
   "cell_type": "markdown",
   "metadata": {},
   "source": [
    "In this scatterplot we see, that there is a moderate correlation between the price and the sqft living. More sqft living equates to a higher price.\n",
    "<br>\n",
    "Because there are 3 outliers in sqft_living (7480, 7120 and 7350), I will remove them."
   ]
  },
  {
   "cell_type": "code",
   "execution_count": null,
   "metadata": {},
   "outputs": [],
   "source": [
    "# remove three outliers\n",
    "df = df[df['sqft_living'] < 7000]"
   ]
  },
  {
   "cell_type": "code",
   "execution_count": null,
   "metadata": {},
   "outputs": [],
   "source": [
    "correlation = df['price_per_sqft'].corr(df['sqft_living'])\n",
    "print(correlation.round(1))"
   ]
  },
  {
   "cell_type": "code",
   "execution_count": null,
   "metadata": {},
   "outputs": [],
   "source": [
    "fig = px.scatter(df, x='price_per_sqft', y='sqft_living', \n",
    "                opacity= 0.5, \n",
    "                title='Correlation between Price/sqft and sqft living (correlation: -0.3)')\n",
    "fig.update_traces(marker=dict(color='#40BCD8'))\n",
    "fig.show()"
   ]
  },
  {
   "attachments": {},
   "cell_type": "markdown",
   "metadata": {},
   "source": [
    "In this scatterplot we see, that the correlation between sqft living and price per sqft is negative moderate. That was to be expected, as _price/sqft living_ scales like _1/sqft living_, but _price_ and _sqft living_ still have a positive correlation.\n",
    "\n",
    "<br>"
   ]
  },
  {
   "attachments": {},
   "cell_type": "markdown",
   "metadata": {},
   "source": [
    "#### Correlations price or price_per_sqft, and bedrooms:"
   ]
  },
  {
   "cell_type": "code",
   "execution_count": null,
   "metadata": {},
   "outputs": [],
   "source": [
    "correlation = df['price'].corr(df['bedrooms'])\n",
    "print(correlation.round(1))"
   ]
  },
  {
   "cell_type": "code",
   "execution_count": null,
   "metadata": {},
   "outputs": [],
   "source": [
    "fig = px.scatter(df, x='price', y='bedrooms', opacity= 0.5, title='Correlation between Price and bedrooms (correlation: 0.3)')\n",
    "fig.update_traces(marker=dict(color='#40BCD8'))\n",
    "fig.show()"
   ]
  },
  {
   "attachments": {},
   "cell_type": "markdown",
   "metadata": {},
   "source": [
    "In this scatterplot we can see, that there is only a moderate correlation. Bedrooms don't influence the price as much as I thought. We can see one outlier with 33 bedrooms. Remove outlier and all houses with more than 5 bedrooms, because only houses with less bedrooms are in the stakeholders interest.\n",
    "\n",
    "<br>"
   ]
  },
  {
   "cell_type": "code",
   "execution_count": null,
   "metadata": {},
   "outputs": [],
   "source": [
    "# remove outliers and filter for houses with 5 and less bedrooms:\n",
    "df = df[df['bedrooms'] < 6]"
   ]
  },
  {
   "cell_type": "code",
   "execution_count": null,
   "metadata": {},
   "outputs": [],
   "source": [
    "correlation = df['price_per_sqft'].corr(df['bedrooms'])\n",
    "print(correlation.round(1))"
   ]
  },
  {
   "cell_type": "code",
   "execution_count": null,
   "metadata": {},
   "outputs": [],
   "source": [
    "fig = px.scatter(df, x='price_per_sqft', y='bedrooms', \n",
    "                opacity= 0.5, title='Correlation between Price/sqft and bedrooms (correlation: -0.3)')\n",
    "fig.update_traces(marker=dict(color='#40BCD8'))\n",
    "fig.show()"
   ]
  },
  {
   "attachments": {},
   "cell_type": "markdown",
   "metadata": {},
   "source": [
    "Weak negative correlation between price per sqft and bedrooms was also expected here. Same explanation like in correlation scatterplot\n",
    "sqft living and price per sqft.\n",
    "\n",
    "<br>"
   ]
  },
  {
   "attachments": {},
   "cell_type": "markdown",
   "metadata": {},
   "source": [
    "#### Correlations price or price_per_sqft, and bathrooms:"
   ]
  },
  {
   "cell_type": "code",
   "execution_count": null,
   "metadata": {},
   "outputs": [],
   "source": [
    "correlation = df['price'].corr(df['bathrooms'])\n",
    "print(correlation.round(1))"
   ]
  },
  {
   "cell_type": "code",
   "execution_count": null,
   "metadata": {},
   "outputs": [],
   "source": [
    "#fig = px.scatter(df, x='bathrooms', y='price', color='price', opacity= 0.7, title='Correlation between Price and Number of Bathrooms  (correlation: 0.5)')\n",
    "#fig.update_traces(marker=dict(color='#40BCD8'))\n",
    "#fig.show()\n",
    "\n",
    "\n",
    "fig = px.scatter(df, x=\"bathrooms\", y=\"price\",opacity=0.7,\n",
    "                trendline=\"ols\", title='Correlation between Price and Number of Bathrooms  (correlation: 0.5)')\n",
    "\n",
    "fig.update_traces(marker=dict(color='#40BCD8'))\n",
    "\n",
    "fig.update_traces(\n",
    "    line=dict(dash=\"dot\", width=2),\n",
    "    selector=dict(type=\"scatter\", mode=\"lines\"))\n",
    "fig.update_traces(\n",
    "    line=dict(color='#406E78')\n",
    ")\n",
    "\n",
    "fig.show()"
   ]
  },
  {
   "cell_type": "code",
   "execution_count": null,
   "metadata": {},
   "outputs": [],
   "source": [
    "correlation = df['price_per_sqft'].corr(df['bathrooms'])\n",
    "print(correlation.round(1))"
   ]
  },
  {
   "cell_type": "code",
   "execution_count": null,
   "metadata": {},
   "outputs": [],
   "source": [
    "fig = px.scatter(df, x='price_per_sqft', y='bathrooms', \n",
    "                opacity= 0.5, title='Correlation between Price/sqft and Number of Bathrooms  (correlation: -0.2)')\n",
    "fig.update_traces(marker=dict(color='#40BCD8'))\n",
    "fig.show()"
   ]
  },
  {
   "attachments": {},
   "cell_type": "markdown",
   "metadata": {},
   "source": [
    "This scatterplot also shows, that price_per_sqft is not a suitable value for correlations. Logically the same explanation as above. Correlation is negative weak.\n",
    "\n",
    "<br>"
   ]
  },
  {
   "attachments": {},
   "cell_type": "markdown",
   "metadata": {},
   "source": [
    "### Conclusion to first hypothesis:\n",
    "### The more sqft_living a house has, the more expensive it is. YES\n",
    "\n",
    "* What is the correlation between __price__ and __sqft_living__?            -> Correlation is __strong__.  \n",
    "* What is the correlation between __price_per_sqft__ and __sqft_living__?   -> Correlation is negative __moderate__.\n",
    "* What is the correlation between __price__ and __bedrooms__?               -> Correlation is __moderate__.  \n",
    "* What is the correlation between __price_per_sqft__ and __bedrooms__?      -> Correlation is negative __moderate__. \n",
    "* What is the correlation between __price__ and __bathrooms__?              -> Correlation is __strong__.\n",
    "* What is the correlation between __price_per_sqft__ and __bathrooms__?     -> Correlation is negative __moderate__.\n",
    "\n",
    "<br>\n",
    "\n",
    "Keep __Stakeholder__ in mind: We now know, that the price is mainly influenced by the sqft_living and the number of bathrooms. \n",
    "Ergo: We should look for houses that have an average number of bathrooms (because we need to think of families!) but are below average price for sqft_living and then filter these houses by grade.\n",
    "\n",
    "<br>"
   ]
  },
  {
   "attachments": {},
   "cell_type": "markdown",
   "metadata": {},
   "source": [
    "### Checking second Hypothesis: \n",
    "### Homes that are further away of a city center or are in a rural area are cheaper. \n",
    "##### Distance from a house to the city center (by my definition a city center is where the town/city hall is). \n",
    "##### I need:\n",
    "* Top ten cities in King County by Total Population by Place\n",
    "* Latitude and longitude of the cities town halls\n",
    "* Function to calculate the distance between each house and my top ten city centers\n",
    "* Function that returns the smallest distance to a city center.\n",
    "* Make two new columns: column city (shows with city is nearest to the house) and column distance_to_center (shows distance in km from house to the city center)."
   ]
  },
  {
   "cell_type": "code",
   "execution_count": null,
   "metadata": {},
   "outputs": [],
   "source": [
    "# Top ten cities in King County by Total Population by Place: \n",
    "# Source: https://statisticalatlas.com/county/Washington/King-County/Population\n",
    "# Definition city center: lat and long of city town/city hall\n",
    "\n",
    "# Dict of Top ten cities in King County by Total Population by Place\n",
    "cities = {\n",
    "    'Seattle':  (47.5994862,-122.3386744),\n",
    "    'Bellevue': (47.614463,-122.2310811),\n",
    "    'Kent': (47.3806225,-122.2561947,),\n",
    "    'Renton': (47.4747632,-122.2142851),\n",
    "    'Federal Way': (47.3012382,-122.322559),\n",
    "    'Kirkland': (47.678471,-122.2452861),\n",
    "    'Auburn': (47.3078503,-122.2484648),\n",
    "    'Sammamish': (47.601572,-122.0390594),\n",
    "    'Redmond': (47.6789194,-122.1358138),\n",
    "    'Shoreline': (47.7562273,-122.3463749)\n",
    "\n",
    "}\n",
    "\n",
    "\n",
    "# Calculate distance from house to city center: ((house.lat - center.lat) + (house.long - center.long)**2)**0.5\n",
    "# 1 degree = 111km\n",
    "def distance(lat: float, long: float, center: tuple[float, float]) -> float:\n",
    "    return round((((lat - center[0])**2 + (long - center[1])**2)**0.5)*111, 3)\n",
    "\n",
    "\n",
    "# Returns smallest distance to center of nearest city in km:\n",
    "def distance_to_center(lat: float, long: float) -> tuple:\n",
    "    distances = {cityname: distance(lat, long, center) for cityname, center in cities.items()}\n",
    "    smallest_distance = min(distances.items(), key=lambda x: x[1])\n",
    "    return smallest_distance"
   ]
  },
  {
   "cell_type": "code",
   "execution_count": null,
   "metadata": {},
   "outputs": [],
   "source": [
    "# Create new column: 'city'\n",
    "df['city'] = df.apply(lambda x: distance_to_center(x['lat'], x['long'])[0], axis=1)\n",
    "df.head()\n"
   ]
  },
  {
   "cell_type": "code",
   "execution_count": null,
   "metadata": {},
   "outputs": [],
   "source": [
    "# Create new column: 'distance_to_center'\n",
    "df['distance_to_center'] = df.apply(lambda x: distance_to_center(x['lat'], x['long'])[1], axis=1)\n",
    "df.head()"
   ]
  },
  {
   "cell_type": "code",
   "execution_count": null,
   "metadata": {},
   "outputs": [],
   "source": [
    "# Create new column: distance_rating for future plotting\n",
    "\n",
    "# [0, 10, 20, 30, 40] --> ['center', 'near center', 'suburbs', 'rural']\n",
    "\n",
    "distance_rating_bins = pd.cut(df['distance_to_center'], [0, 10, 20, 30, 40], labels=['center', 'near center', 'suburbs', 'rural']) #, labels=['center', 'near center', 'suburbs', 'outer area', 'rural'])\n",
    "distance_rating_bins.name = 'distance_rating'\n",
    "\n",
    "df = df.join(distance_rating_bins, how='inner')\n",
    "df.head(10)\n",
    "# print(distance_rating_bins)"
   ]
  },
  {
   "attachments": {},
   "cell_type": "markdown",
   "metadata": {},
   "source": [
    "#### Correlations between price, price_per_sqft and distance_to_center"
   ]
  },
  {
   "cell_type": "code",
   "execution_count": null,
   "metadata": {},
   "outputs": [],
   "source": [
    "correlation = df['price'].corr(df['distance_to_center'])\n",
    "print(correlation.round(1))"
   ]
  },
  {
   "cell_type": "code",
   "execution_count": null,
   "metadata": {},
   "outputs": [],
   "source": [
    "correlation = df['price_per_sqft'].corr(df['distance_to_center'])\n",
    "print(correlation.round(1))"
   ]
  },
  {
   "cell_type": "code",
   "execution_count": null,
   "metadata": {},
   "outputs": [],
   "source": [
    "fig = px.scatter(df, x=\"distance_to_center\", y=\"price\",opacity=0.5,\n",
    "                trendline=\"ols\", title='Correlation between Distance to Center and Price  (correlation: -0.1)')\n",
    "\n",
    "fig.update_traces(marker=dict(color='#40BCD8'))\n",
    "\n",
    "fig.update_traces(\n",
    "    line=dict(dash=\"dot\", width=2),\n",
    "    selector=dict(type=\"scatter\", mode=\"lines\"))\n",
    "fig.update_traces(\n",
    "    line=dict(color='#406E78')\n",
    ")\n",
    "\n",
    "fig.show()"
   ]
  },
  {
   "attachments": {},
   "cell_type": "markdown",
   "metadata": {},
   "source": [
    "We see that the correlation is negative negligible. Make correaltions for each city: price and distance_to_center.\n",
    "\n",
    "<br>"
   ]
  },
  {
   "attachments": {},
   "cell_type": "markdown",
   "metadata": {},
   "source": [
    "#### Correlations for each city distance_to_center and price and price_per_sqft"
   ]
  },
  {
   "cell_type": "code",
   "execution_count": null,
   "metadata": {},
   "outputs": [],
   "source": [
    "for city in cities:\n",
    "    c = df[df['city'] == city][['distance_to_center', 'price']].corr()\n",
    "    print(city, c.round(1))"
   ]
  },
  {
   "cell_type": "code",
   "execution_count": null,
   "metadata": {},
   "outputs": [],
   "source": [
    "for city in cities:\n",
    "    c = df[df['city'] == city][['distance_to_center', 'price_per_sqft']].corr()\n",
    "    print(city, c.round(1))"
   ]
  },
  {
   "attachments": {},
   "cell_type": "markdown",
   "metadata": {},
   "source": [
    "##### Take the cities where correlation is negative strong and negative moderate and make scatterplot: \n",
    "* Seattle (-0.3), Bellevue (-0.5), Kirkland (-0.4) and Sammamish (-0.3)\n",
    "<br>\n",
    "(Why negative strong? -> Negative strong means here, that the farther away from city center the less expensive the house is.)\n"
   ]
  },
  {
   "cell_type": "code",
   "execution_count": null,
   "metadata": {},
   "outputs": [],
   "source": [
    "# Make DataFrame with the four cities to plot:\n",
    "df_filter_cities = df.query('city in (\"Seattle\", \"Bellevue\", \"Kirkland\", \"Sammamish\") and distance_to_center < 50')\n",
    "\n",
    "# Make scatterplot:\n",
    "# Assigning a variable to hue will map its levels to the color of the points:\n",
    "# Assigning the same variable to style will also vary the markers and create a more accessible plot:\n",
    "sns.scatterplot(data=df_filter_cities, x='distance_to_center', y='price', hue='city', style='city')\n",
    "\n",
    "# Use relplot() to combine scatterplot() and FacetGrid. This allows grouping within additional categorical variables, and plotting them across multiple subplots.\n",
    "sns.relplot(\n",
    "    data=df_filter_cities, x='distance_to_center', y='price',\n",
    "    col='city', hue='city', style='city',\n",
    "    kind='scatter'\n",
    ");"
   ]
  },
  {
   "attachments": {},
   "cell_type": "markdown",
   "metadata": {},
   "source": [
    "The scatterplots above don't show the correlations properly. Make four individual scatterplots for desired cities.\n",
    "\n",
    "<br>"
   ]
  },
  {
   "attachments": {},
   "cell_type": "markdown",
   "metadata": {},
   "source": [
    "#### Scatterplot for Seattle:"
   ]
  },
  {
   "cell_type": "code",
   "execution_count": null,
   "metadata": {},
   "outputs": [],
   "source": [
    "df_seattle = df.query('city == \"Seattle\"')\n",
    "\n",
    "fig = px.scatter(df_seattle, x=\"distance_to_center\", y=\"price\",opacity=0.5,\n",
    "                trendline=\"ols\", title='Seattle: Correlation between Distance to Center and Price  (correlation: -0.3)')\n",
    "\n",
    "fig.update_traces(marker=dict(color='#40BCD8'))\n",
    "\n",
    "fig.update_traces(\n",
    "    line=dict(dash=\"dot\", width=2),\n",
    "    selector=dict(type=\"scatter\", mode=\"lines\"))\n",
    "fig.update_traces(\n",
    "    line=dict(color='#406E78')\n",
    ")\n",
    "\n",
    "fig.show()"
   ]
  },
  {
   "attachments": {},
   "cell_type": "markdown",
   "metadata": {},
   "source": [
    "In this scatterplot we see the Price is moderately influenced by Distance to City Center for Seattle. \n",
    "\n",
    "<br>"
   ]
  },
  {
   "attachments": {},
   "cell_type": "markdown",
   "metadata": {},
   "source": [
    "#### Scatterplot for Bellevue:"
   ]
  },
  {
   "cell_type": "code",
   "execution_count": null,
   "metadata": {},
   "outputs": [],
   "source": [
    "df_bellevue = df.query('city == \"Bellevue\"')\n",
    "\n",
    "\n",
    "fig = px.scatter(df_bellevue, x=\"distance_to_center\", y=\"price\",opacity=0.5,\n",
    "                trendline=\"ols\", title='Bellevue: Correlation between Distance to Center and Price  (correlation: -0.5)')\n",
    "\n",
    "fig.update_traces(marker=dict(color='#40BCD8'))\n",
    "\n",
    "fig.update_traces(\n",
    "    line=dict(dash=\"dot\", width=2),\n",
    "    selector=dict(type=\"scatter\", mode=\"lines\"))\n",
    "fig.update_traces(\n",
    "    line=dict(color='#406E78')\n",
    ")\n",
    "\n",
    "fig.show()"
   ]
  },
  {
   "attachments": {},
   "cell_type": "markdown",
   "metadata": {},
   "source": [
    "In this scatterplot we see that the Price for houses correlates negative strong with Distance to City Center od Bellvue. \n",
    "\n",
    "<br>"
   ]
  },
  {
   "attachments": {},
   "cell_type": "markdown",
   "metadata": {},
   "source": [
    "#### Scatterplot for Kirkland:"
   ]
  },
  {
   "cell_type": "code",
   "execution_count": null,
   "metadata": {},
   "outputs": [],
   "source": [
    "df_kirkland = df.query('city == \"Kirkland\"')\n",
    "\n",
    "fig = px.scatter(df_kirkland, x=\"distance_to_center\", y=\"price\",opacity=0.5,\n",
    "                trendline=\"ols\", title='Kirkland: Correlation between Distance to Center and Price  (correlation: -0.4)')\n",
    "\n",
    "fig.update_traces(marker=dict(color='#40BCD8'))\n",
    "\n",
    "fig.update_traces(\n",
    "    line=dict(dash=\"dot\", width=2),\n",
    "    selector=dict(type=\"scatter\", mode=\"lines\"))\n",
    "fig.update_traces(\n",
    "    line=dict(color='#406E78')\n",
    ")\n",
    "\n",
    "fig.show()"
   ]
  },
  {
   "attachments": {},
   "cell_type": "markdown",
   "metadata": {},
   "source": [
    "#### Scatterplot for Sammamish:"
   ]
  },
  {
   "cell_type": "code",
   "execution_count": null,
   "metadata": {},
   "outputs": [],
   "source": [
    "df_sammamish = df.query('city == \"Sammamish\"')\n",
    "\n",
    "fig = px.scatter(df_sammamish, x=\"distance_to_center\", y=\"price\",opacity=0.5,\n",
    "                trendline=\"ols\", title='Sammamish: Correlation between Distance to Center and Price  (correlation: -0.3)')\n",
    "\n",
    "fig.update_traces(marker=dict(color='#40BCD8'))\n",
    "\n",
    "fig.update_traces(\n",
    "    line=dict(dash=\"dot\", width=2),\n",
    "    selector=dict(type=\"scatter\", mode=\"lines\"))\n",
    "fig.update_traces(\n",
    "    line=dict(color='#406E78')\n",
    ")\n",
    "\n",
    "fig.show()\n"
   ]
  },
  {
   "attachments": {},
   "cell_type": "markdown",
   "metadata": {},
   "source": [
    "### Conclusion to second hypothesis: \n",
    "### Homes that are further away of a city center or are in a rural area are cheaper. NO!\n",
    "\n",
    "The Distance to City Center for each house is moderately relevant in only four of selected 10 cities. With this dataset and this location (King County) it is safe to say, that distance to center is not relevant for the determination of price.\n",
    "\n",
    "Keep __Stakeholder__ in mind: Focus on houses that are in the city when distance isn't a factor regarding house prices.\n",
    "\n",
    "<br>"
   ]
  },
  {
   "attachments": {},
   "cell_type": "markdown",
   "metadata": {},
   "source": [
    "### Checking third hypothesis: \n",
    "### The better the condition of the house, the more expensive it is.\n",
    "\n",
    "\n",
    "* Earlier analysis shows that correlation between grade and price is strong.\n",
    "<br>"
   ]
  },
  {
   "attachments": {},
   "cell_type": "markdown",
   "metadata": {},
   "source": [
    "#### Scatterplot for correlation between Price and Grade:"
   ]
  },
  {
   "cell_type": "code",
   "execution_count": null,
   "metadata": {},
   "outputs": [],
   "source": [
    "# correlation between column grade and column price\n",
    "correlation = df['grade'].corr(df['price'])\n",
    "print(correlation.round(1))\n",
    "\n",
    "# correlation is strong "
   ]
  },
  {
   "cell_type": "code",
   "execution_count": null,
   "metadata": {},
   "outputs": [],
   "source": [
    "fig = px.scatter(df, x=\"grade\", y=\"price\",opacity=0.5,\n",
    "                trendline=\"ols\", title='Correlation between Price and Grade (correlation: 0.6)')\n",
    "\n",
    "fig.update_traces(marker=dict(color='#40BCD8'))\n",
    "\n",
    "fig.update_traces(\n",
    "    line=dict(dash=\"dot\", width=2),\n",
    "    selector=dict(type=\"scatter\", mode=\"lines\"))\n",
    "fig.update_traces(\n",
    "    line=dict(color='#406E78')\n",
    ")\n",
    "\n",
    "fig.show()"
   ]
  },
  {
   "attachments": {},
   "cell_type": "markdown",
   "metadata": {},
   "source": [
    "In this scatterplot we see the positive strong correlation for price and grade. It would be interesting to see how or if correlation is changing among cities.\n",
    "\n",
    "<br>"
   ]
  },
  {
   "cell_type": "code",
   "execution_count": null,
   "metadata": {},
   "outputs": [],
   "source": [
    "# determine which cities to plot:\n",
    "for city in cities:\n",
    "    c = df[df['city'] == city][['grade', 'price']].corr()\n",
    "    print(city, c.round(1))"
   ]
  },
  {
   "cell_type": "code",
   "execution_count": null,
   "metadata": {},
   "outputs": [],
   "source": [
    "# Make DataFrame with the four cities to plot:\n",
    "df_filter_cities = df.query('city in (\"Sammamish\", \"Redmond\", \"Auburn\", \"Renton\", \"Seattle\")')\n",
    "\n",
    "# Make scatterplot:\n",
    "# Assigning a variable to hue will map its levels to the color of the points:\n",
    "# Assigning the same variable to style will also vary the markers and create a more accessible plot:\n",
    "sns.catplot(data=df_filter_cities, x='grade', y='price', hue='city', jitter=True)\n",
    "\n",
    "\n",
    "# Use relplot() to combine scatterplot() and FacetGrid. This allows grouping within additional categorical variables, and plotting them across multiple subplots.\n",
    "\n",
    "sns.relplot(\n",
    "    data=df_filter_cities, x='grade', y='price',\n",
    "    col='city', hue='city', style='city',\n",
    "    kind='scatter'\n",
    ");\n"
   ]
  },
  {
   "attachments": {},
   "cell_type": "markdown",
   "metadata": {},
   "source": [
    "In this plots we can see the correlation of price and grade. But more importantly is the fact, that there are houses with a high grade but low price."
   ]
  },
  {
   "cell_type": "code",
   "execution_count": null,
   "metadata": {},
   "outputs": [],
   "source": [
    "price_median = df['price'].median()\n",
    "price_median"
   ]
  },
  {
   "cell_type": "code",
   "execution_count": null,
   "metadata": {},
   "outputs": [],
   "source": [
    "'''\n",
    "# To create custom color palette: Create an array with the colors: \n",
    "colors = ['#7b3294','#c2a5cf','#a6dba0','#008837']\n",
    "# Set your custom color palette\n",
    "customPalette = sns.set_palette(sns.color_palette(colors))\n",
    "\n",
    "df_filter_cities = df.query('city in (\"Sammamish\", \"Redmond\", \"Auburn\", \"Renton\", \"Seattle\")')\n",
    "\n",
    "# Create a scatterplot for categorical variables using catplot:\n",
    "my_plot = sns.catplot(\n",
    "    #y ou can use query on the data frame\n",
    "    data=df_filter_cities.query('price <= 435000.0'),\n",
    "    # set x and y axes, and a third categorical variable to display in color\n",
    "    x='grade', y='price', hue='city', \n",
    "    # the catplot has the option to add jitter to data points to keep them from overlapping as they would in the scatterplot,\n",
    "    # default is True\n",
    "    jitter=True, \n",
    "    # chose a color palette\n",
    "    palette=customPalette,\n",
    "    # by default, the legend is True, but was not to my taste :)\n",
    "    legend=False\n",
    "    )\n",
    "\n",
    "# set figure size:\n",
    "my_plot.fig.set_size_inches(15,5)\n",
    "\n",
    "# set title \n",
    "my_plot.fig.suptitle('House prices below and equal to 435000 US$ in different cities by grade', y=(1.05), size=12, color='grey');\n",
    "\n",
    "# add a nicer legend with more options:\n",
    "my_plot.add_legend(title='City')\n",
    "\n",
    "# display plot\n",
    "plt.show(my_plot)\n",
    "'''"
   ]
  },
  {
   "cell_type": "code",
   "execution_count": null,
   "metadata": {},
   "outputs": [],
   "source": [
    "\n",
    "customPalette = sns.set_palette(sns.color_palette('Paired'))\n",
    "\n",
    "sns.catplot(\n",
    "    data=df.query('price <= 435000.0'), y=\"city\", hue=\"grade\", kind=\"count\",\n",
    "    palette=customPalette, edgecolor=\".6\",\n",
    ");"
   ]
  },
  {
   "cell_type": "code",
   "execution_count": null,
   "metadata": {},
   "outputs": [],
   "source": [
    "\n",
    "customPalette = sns.set_palette(sns.color_palette('Paired'))\n",
    "\n",
    "sns.catplot(\n",
    "    data=df_filter_cities.query('price <= 435000.0'), y=\"city\", hue=\"grade\", kind=\"count\",\n",
    "    palette=customPalette, edgecolor=\".6\",\n",
    ");"
   ]
  },
  {
   "cell_type": "code",
   "execution_count": null,
   "metadata": {},
   "outputs": [],
   "source": [
    "df.describe()\n"
   ]
  },
  {
   "attachments": {},
   "cell_type": "markdown",
   "metadata": {},
   "source": [
    "## Findings\n",
    "\n",
    "* The more sqft_living a house has, the more expensive it is. But number of rooms don't influence the price. On the other hand the number of bathrooms is a factor that correlates with the price.\n",
    "* The sales price doesn't increase with the proximity to the city center.\n",
    "* The better the condition of the house, the more expensive it is, but there a exceptions.\n",
    "\n",
    "<br>\n",
    "\n",
    "__Stakeholder__:\n",
    "Look for houses in range 800 sqft_living and 1292 sqft_living, with a price below average (median) in this range. With a grade of minimum 7 and bathrooms of minimum 2.0."
   ]
  },
  {
   "cell_type": "code",
   "execution_count": null,
   "metadata": {},
   "outputs": [],
   "source": [
    "df_sqft_range = df.query('sqft_living >= 800 and sqft_living <= 1292')\n",
    "df_sqft_range['price'].median()\n",
    "df_filter = df_sqft_range.query('price <= 320000.0')\n",
    "df_filter1 = df_filter.query('grade >= 7')\n",
    "df_filter2 = df_filter1.query('distance_to_center <= 10')\n",
    "df_result = df_filter2.query('bathrooms >= 2')\n",
    "df_result.info()\n"
   ]
  },
  {
   "cell_type": "code",
   "execution_count": null,
   "metadata": {},
   "outputs": [],
   "source": [
    "fig = px.histogram(df_result, x = 'city', color = 'zipcode', barmode = 'overlay')\n",
    "\n",
    "fig.show()\n"
   ]
  },
  {
   "cell_type": "code",
   "execution_count": null,
   "metadata": {},
   "outputs": [],
   "source": [
    "fig = px.histogram(df_filter, x = 'city', color = 'zipcode', barmode = 'group')\n",
    "\n",
    "fig.show()"
   ]
  }
 ],
 "metadata": {
  "kernelspec": {
   "display_name": ".venv",
   "language": "python",
   "name": "python3"
  },
  "language_info": {
   "codemirror_mode": {
    "name": "ipython",
    "version": 3
   },
   "file_extension": ".py",
   "mimetype": "text/x-python",
   "name": "python",
   "nbconvert_exporter": "python",
   "pygments_lexer": "ipython3",
   "version": "3.9.8"
  },
  "orig_nbformat": 4
 },
 "nbformat": 4,
 "nbformat_minor": 2
}
